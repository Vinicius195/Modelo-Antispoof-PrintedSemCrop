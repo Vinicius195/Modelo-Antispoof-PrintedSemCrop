{
 "cells": [
  {
   "cell_type": "markdown",
   "metadata": {},
   "source": [
    "# Bibliotecas"
   ]
  },
  {
   "cell_type": "code",
   "execution_count": 1,
   "metadata": {},
   "outputs": [],
   "source": [
    "# from selenium import webdriver\n",
    "# import time\n",
    "# from selenium import webdriver\n",
    "# from selenium.webdriver.common.keys import Keys\n",
    "# from selenium.webdriver.common.keys import Keys\n",
    "import pandas as pd"
   ]
  },
  {
   "cell_type": "code",
   "execution_count": 2,
   "metadata": {},
   "outputs": [],
   "source": [
    "# data = pd.read_csv('fotos_salvas_teste.csv', sep=',')\n",
    "# data.head()"
   ]
  },
  {
   "cell_type": "code",
   "execution_count": 3,
   "metadata": {},
   "outputs": [
    {
     "data": {
      "text/html": [
       "<div>\n",
       "<style scoped>\n",
       "    .dataframe tbody tr th:only-of-type {\n",
       "        vertical-align: middle;\n",
       "    }\n",
       "\n",
       "    .dataframe tbody tr th {\n",
       "        vertical-align: top;\n",
       "    }\n",
       "\n",
       "    .dataframe thead th {\n",
       "        text-align: right;\n",
       "    }\n",
       "</style>\n",
       "<table border=\"1\" class=\"dataframe\">\n",
       "  <thead>\n",
       "    <tr style=\"text-align: right;\">\n",
       "      <th></th>\n",
       "      <th>id</th>\n",
       "      <th>usuario</th>\n",
       "      <th>recurso</th>\n",
       "      <th>data_acesso</th>\n",
       "      <th>url_foto</th>\n",
       "      <th>resultado</th>\n",
       "      <th>dist_1</th>\n",
       "      <th>dist_2</th>\n",
       "      <th>onde_achou</th>\n",
       "      <th>acao_bases</th>\n",
       "      <th>tempo_processamento</th>\n",
       "      <th>antispoof</th>\n",
       "      <th>resultado_2</th>\n",
       "      <th>url_doc</th>\n",
       "      <th>cpf</th>\n",
       "    </tr>\n",
       "  </thead>\n",
       "  <tbody>\n",
       "    <tr>\n",
       "      <th>0</th>\n",
       "      <td>20178</td>\n",
       "      <td>bwa</td>\n",
       "      <td>verifica</td>\n",
       "      <td>2019-10-19 14:19:01.725679</td>\n",
       "      <td>https://s3-sa-east-1.amazonaws.com/machineair-...</td>\n",
       "      <td>Alex Ramos De Oliveira</td>\n",
       "      <td>0.13880837441133826349</td>\n",
       "      <td>0.13326855861780548844</td>\n",
       "      <td>base_2</td>\n",
       "      <td>atualiza_foto</td>\n",
       "      <td>4725.704679</td>\n",
       "      <td>NaN</td>\n",
       "      <td>NaN</td>\n",
       "      <td>NaN</td>\n",
       "      <td>2.131505e+10</td>\n",
       "    </tr>\n",
       "    <tr>\n",
       "      <th>1</th>\n",
       "      <td>20177</td>\n",
       "      <td>bwa</td>\n",
       "      <td>verifica</td>\n",
       "      <td>2019-10-19 09:47:19.79676</td>\n",
       "      <td>https://s3-sa-east-1.amazonaws.com/machineair-...</td>\n",
       "      <td>Não Localizado</td>\n",
       "      <td>0.4880011862334924163</td>\n",
       "      <td>0.3933694650376881841</td>\n",
       "      <td>NaN</td>\n",
       "      <td>nada_a_fazer</td>\n",
       "      <td>3041.531942</td>\n",
       "      <td>NaN</td>\n",
       "      <td>NaN</td>\n",
       "      <td>NaN</td>\n",
       "      <td>NaN</td>\n",
       "    </tr>\n",
       "    <tr>\n",
       "      <th>2</th>\n",
       "      <td>20176</td>\n",
       "      <td>bwa</td>\n",
       "      <td>verifica</td>\n",
       "      <td>2019-10-19 08:55:13.590093</td>\n",
       "      <td>https://s3-sa-east-1.amazonaws.com/machineair-...</td>\n",
       "      <td>Não Localizado</td>\n",
       "      <td>0.3830552568842988214</td>\n",
       "      <td>0.4107115905186792868</td>\n",
       "      <td>NaN</td>\n",
       "      <td>nada_a_fazer</td>\n",
       "      <td>872.296810</td>\n",
       "      <td>NaN</td>\n",
       "      <td>NaN</td>\n",
       "      <td>NaN</td>\n",
       "      <td>NaN</td>\n",
       "    </tr>\n",
       "    <tr>\n",
       "      <th>3</th>\n",
       "      <td>20175</td>\n",
       "      <td>bwa</td>\n",
       "      <td>verifica</td>\n",
       "      <td>2019-10-19 08:48:11.926129</td>\n",
       "      <td>https://s3-sa-east-1.amazonaws.com/machineair-...</td>\n",
       "      <td>Joice (Limpeza)</td>\n",
       "      <td>0.17377855947236146527</td>\n",
       "      <td>0.07032815225416956953</td>\n",
       "      <td>base_2</td>\n",
       "      <td>nada_a_fazer</td>\n",
       "      <td>655.121803</td>\n",
       "      <td>NaN</td>\n",
       "      <td>NaN</td>\n",
       "      <td>NaN</td>\n",
       "      <td>3.816366e+10</td>\n",
       "    </tr>\n",
       "    <tr>\n",
       "      <th>4</th>\n",
       "      <td>20174</td>\n",
       "      <td>bwa</td>\n",
       "      <td>verifica</td>\n",
       "      <td>2019-10-19 08:31:44.305749</td>\n",
       "      <td>https://s3-sa-east-1.amazonaws.com/machineair-...</td>\n",
       "      <td>Joice (Limpeza)</td>\n",
       "      <td>0.1864311808269594500</td>\n",
       "      <td>0.0951398730832492035</td>\n",
       "      <td>base_2</td>\n",
       "      <td>nada_a_fazer</td>\n",
       "      <td>657.820225</td>\n",
       "      <td>NaN</td>\n",
       "      <td>NaN</td>\n",
       "      <td>NaN</td>\n",
       "      <td>3.816366e+10</td>\n",
       "    </tr>\n",
       "  </tbody>\n",
       "</table>\n",
       "</div>"
      ],
      "text/plain": [
       "      id usuario   recurso                 data_acesso  \\\n",
       "0  20178     bwa  verifica  2019-10-19 14:19:01.725679   \n",
       "1  20177     bwa  verifica   2019-10-19 09:47:19.79676   \n",
       "2  20176     bwa  verifica  2019-10-19 08:55:13.590093   \n",
       "3  20175     bwa  verifica  2019-10-19 08:48:11.926129   \n",
       "4  20174     bwa  verifica  2019-10-19 08:31:44.305749   \n",
       "\n",
       "                                            url_foto               resultado  \\\n",
       "0  https://s3-sa-east-1.amazonaws.com/machineair-...  Alex Ramos De Oliveira   \n",
       "1  https://s3-sa-east-1.amazonaws.com/machineair-...          Não Localizado   \n",
       "2  https://s3-sa-east-1.amazonaws.com/machineair-...          Não Localizado   \n",
       "3  https://s3-sa-east-1.amazonaws.com/machineair-...         Joice (Limpeza)   \n",
       "4  https://s3-sa-east-1.amazonaws.com/machineair-...         Joice (Limpeza)   \n",
       "\n",
       "                   dist_1                  dist_2 onde_achou     acao_bases  \\\n",
       "0  0.13880837441133826349  0.13326855861780548844     base_2  atualiza_foto   \n",
       "1   0.4880011862334924163   0.3933694650376881841        NaN   nada_a_fazer   \n",
       "2   0.3830552568842988214   0.4107115905186792868        NaN   nada_a_fazer   \n",
       "3  0.17377855947236146527  0.07032815225416956953     base_2   nada_a_fazer   \n",
       "4   0.1864311808269594500   0.0951398730832492035     base_2   nada_a_fazer   \n",
       "\n",
       "   tempo_processamento antispoof resultado_2 url_doc           cpf  \n",
       "0          4725.704679       NaN         NaN     NaN  2.131505e+10  \n",
       "1          3041.531942       NaN         NaN     NaN           NaN  \n",
       "2           872.296810       NaN         NaN     NaN           NaN  \n",
       "3           655.121803       NaN         NaN     NaN  3.816366e+10  \n",
       "4           657.820225       NaN         NaN     NaN  3.816366e+10  "
      ]
     },
     "execution_count": 3,
     "metadata": {},
     "output_type": "execute_result"
    }
   ],
   "source": [
    "# data = pd.read_csv('antispoof-printed-semcrop.csv', sep=',')\n",
    "data = pd.read_csv('data_bwa.csv', sep=',')\n",
    "\n",
    "data.head()"
   ]
  },
  {
   "cell_type": "code",
   "execution_count": 4,
   "metadata": {},
   "outputs": [
    {
     "data": {
      "text/html": [
       "<div>\n",
       "<style scoped>\n",
       "    .dataframe tbody tr th:only-of-type {\n",
       "        vertical-align: middle;\n",
       "    }\n",
       "\n",
       "    .dataframe tbody tr th {\n",
       "        vertical-align: top;\n",
       "    }\n",
       "\n",
       "    .dataframe thead th {\n",
       "        text-align: right;\n",
       "    }\n",
       "</style>\n",
       "<table border=\"1\" class=\"dataframe\">\n",
       "  <thead>\n",
       "    <tr style=\"text-align: right;\">\n",
       "      <th></th>\n",
       "      <th>id</th>\n",
       "      <th>usuario</th>\n",
       "      <th>recurso</th>\n",
       "      <th>data_acesso</th>\n",
       "      <th>url_foto</th>\n",
       "      <th>resultado</th>\n",
       "      <th>dist_1</th>\n",
       "      <th>dist_2</th>\n",
       "      <th>onde_achou</th>\n",
       "      <th>acao_bases</th>\n",
       "      <th>tempo_processamento</th>\n",
       "      <th>antispoof</th>\n",
       "      <th>resultado_2</th>\n",
       "      <th>url_doc</th>\n",
       "      <th>cpf</th>\n",
       "    </tr>\n",
       "  </thead>\n",
       "  <tbody>\n",
       "    <tr>\n",
       "      <th>15453</th>\n",
       "      <td>4725</td>\n",
       "      <td>adm</td>\n",
       "      <td>verifica</td>\n",
       "      <td>2019-08-05 14:09:18.152614</td>\n",
       "      <td>https://s3-sa-east-1.amazonaws.com/machineair-...</td>\n",
       "      <td>Ana</td>\n",
       "      <td>0.311383221600190314984</td>\n",
       "      <td>0.149465028410874201181</td>\n",
       "      <td>base_2</td>\n",
       "      <td>nada_a_fazer</td>\n",
       "      <td>659.147501</td>\n",
       "      <td>NaN</td>\n",
       "      <td>NaN</td>\n",
       "      <td>NaN</td>\n",
       "      <td>NaN</td>\n",
       "    </tr>\n",
       "    <tr>\n",
       "      <th>15454</th>\n",
       "      <td>4724</td>\n",
       "      <td>bwa</td>\n",
       "      <td>verifica</td>\n",
       "      <td>2019-08-05 14:09:16.601069</td>\n",
       "      <td>https://s3-sa-east-1.amazonaws.com/machineair-...</td>\n",
       "      <td>Felipe Criniti</td>\n",
       "      <td>0.17926712004109895909</td>\n",
       "      <td>0.17926712004109895909</td>\n",
       "      <td>base_1</td>\n",
       "      <td>atualiza_foto</td>\n",
       "      <td>936.846018</td>\n",
       "      <td>NaN</td>\n",
       "      <td>NaN</td>\n",
       "      <td>NaN</td>\n",
       "      <td>NaN</td>\n",
       "    </tr>\n",
       "    <tr>\n",
       "      <th>15455</th>\n",
       "      <td>4723</td>\n",
       "      <td>adm</td>\n",
       "      <td>verifica</td>\n",
       "      <td>2019-08-05 14:09:11.231739</td>\n",
       "      <td>https://s3-sa-east-1.amazonaws.com/machineair-...</td>\n",
       "      <td>Ana</td>\n",
       "      <td>0.2379366056670296399</td>\n",
       "      <td>0.1953718238285809522</td>\n",
       "      <td>base_2</td>\n",
       "      <td>atualiza_foto</td>\n",
       "      <td>684.531689</td>\n",
       "      <td>NaN</td>\n",
       "      <td>NaN</td>\n",
       "      <td>NaN</td>\n",
       "      <td>NaN</td>\n",
       "    </tr>\n",
       "    <tr>\n",
       "      <th>15456</th>\n",
       "      <td>4722</td>\n",
       "      <td>adm</td>\n",
       "      <td>verifica</td>\n",
       "      <td>2019-08-05 14:09:05.479645</td>\n",
       "      <td>https://s3-sa-east-1.amazonaws.com/machineair-...</td>\n",
       "      <td>Não Localizado</td>\n",
       "      <td>0.3460924264304002855</td>\n",
       "      <td>0.3415422714255172290</td>\n",
       "      <td>NaN</td>\n",
       "      <td>nada_a_fazer</td>\n",
       "      <td>658.476114</td>\n",
       "      <td>NaN</td>\n",
       "      <td>NaN</td>\n",
       "      <td>NaN</td>\n",
       "      <td>NaN</td>\n",
       "    </tr>\n",
       "    <tr>\n",
       "      <th>15457</th>\n",
       "      <td>4721</td>\n",
       "      <td>adm</td>\n",
       "      <td>verifica</td>\n",
       "      <td>2019-08-05 14:08:59.675613</td>\n",
       "      <td>https://s3-sa-east-1.amazonaws.com/machineair-...</td>\n",
       "      <td>Não Localizado</td>\n",
       "      <td>0.40055513800750365099</td>\n",
       "      <td>0.27652958331174898126</td>\n",
       "      <td>NaN</td>\n",
       "      <td>nada_a_fazer</td>\n",
       "      <td>663.384199</td>\n",
       "      <td>teste</td>\n",
       "      <td>teste</td>\n",
       "      <td>NaN</td>\n",
       "      <td>NaN</td>\n",
       "    </tr>\n",
       "  </tbody>\n",
       "</table>\n",
       "</div>"
      ],
      "text/plain": [
       "         id usuario   recurso                 data_acesso  \\\n",
       "15453  4725     adm  verifica  2019-08-05 14:09:18.152614   \n",
       "15454  4724     bwa  verifica  2019-08-05 14:09:16.601069   \n",
       "15455  4723     adm  verifica  2019-08-05 14:09:11.231739   \n",
       "15456  4722     adm  verifica  2019-08-05 14:09:05.479645   \n",
       "15457  4721     adm  verifica  2019-08-05 14:08:59.675613   \n",
       "\n",
       "                                                url_foto        resultado  \\\n",
       "15453  https://s3-sa-east-1.amazonaws.com/machineair-...              Ana   \n",
       "15454  https://s3-sa-east-1.amazonaws.com/machineair-...  Felipe Criniti    \n",
       "15455  https://s3-sa-east-1.amazonaws.com/machineair-...              Ana   \n",
       "15456  https://s3-sa-east-1.amazonaws.com/machineair-...   Não Localizado   \n",
       "15457  https://s3-sa-east-1.amazonaws.com/machineair-...   Não Localizado   \n",
       "\n",
       "                        dist_1                   dist_2 onde_achou  \\\n",
       "15453  0.311383221600190314984  0.149465028410874201181     base_2   \n",
       "15454   0.17926712004109895909   0.17926712004109895909     base_1   \n",
       "15455    0.2379366056670296399    0.1953718238285809522     base_2   \n",
       "15456    0.3460924264304002855    0.3415422714255172290        NaN   \n",
       "15457   0.40055513800750365099   0.27652958331174898126        NaN   \n",
       "\n",
       "          acao_bases  tempo_processamento antispoof resultado_2 url_doc  cpf  \n",
       "15453   nada_a_fazer           659.147501       NaN         NaN     NaN  NaN  \n",
       "15454  atualiza_foto           936.846018       NaN         NaN     NaN  NaN  \n",
       "15455  atualiza_foto           684.531689       NaN         NaN     NaN  NaN  \n",
       "15456   nada_a_fazer           658.476114       NaN         NaN     NaN  NaN  \n",
       "15457   nada_a_fazer           663.384199     teste       teste     NaN  NaN  "
      ]
     },
     "execution_count": 4,
     "metadata": {},
     "output_type": "execute_result"
    }
   ],
   "source": [
    "data.tail()"
   ]
  },
  {
   "cell_type": "code",
   "execution_count": 5,
   "metadata": {},
   "outputs": [],
   "source": [
    "# data = pd.read_csv('url_10.csv', sep=',')\n",
    "# data.head()"
   ]
  },
  {
   "cell_type": "code",
   "execution_count": 6,
   "metadata": {},
   "outputs": [
    {
     "data": {
      "text/plain": [
       "(15458, 15)"
      ]
     },
     "execution_count": 6,
     "metadata": {},
     "output_type": "execute_result"
    }
   ],
   "source": [
    "data.shape"
   ]
  },
  {
   "cell_type": "code",
   "execution_count": 7,
   "metadata": {},
   "outputs": [],
   "source": [
    "# data2 = data[data[\"usuario\"]==\"2air_provisorio\"]"
   ]
  },
  {
   "cell_type": "code",
   "execution_count": 8,
   "metadata": {},
   "outputs": [
    {
     "data": {
      "text/plain": [
       "id                       int64\n",
       "usuario                 object\n",
       "recurso                 object\n",
       "data_acesso             object\n",
       "url_foto                object\n",
       "resultado               object\n",
       "dist_1                  object\n",
       "dist_2                  object\n",
       "onde_achou              object\n",
       "acao_bases              object\n",
       "tempo_processamento    float64\n",
       "antispoof               object\n",
       "resultado_2             object\n",
       "url_doc                 object\n",
       "cpf                    float64\n",
       "dtype: object"
      ]
     },
     "execution_count": 8,
     "metadata": {},
     "output_type": "execute_result"
    }
   ],
   "source": [
    "data.dtypes"
   ]
  },
  {
   "cell_type": "code",
   "execution_count": 9,
   "metadata": {},
   "outputs": [],
   "source": [
    "filtered_df = data[data['url_foto'].notnull()]\n"
   ]
  },
  {
   "cell_type": "code",
   "execution_count": 10,
   "metadata": {},
   "outputs": [],
   "source": [
    "filtered_df = filtered_df[filtered_df[\"usuario\"]==\"bwa\"]"
   ]
  },
  {
   "cell_type": "code",
   "execution_count": 11,
   "metadata": {},
   "outputs": [
    {
     "data": {
      "text/plain": [
       "(7461, 15)"
      ]
     },
     "execution_count": 11,
     "metadata": {},
     "output_type": "execute_result"
    }
   ],
   "source": [
    "filtered_df.shape"
   ]
  },
  {
   "cell_type": "code",
   "execution_count": 12,
   "metadata": {},
   "outputs": [
    {
     "data": {
      "text/html": [
       "<div>\n",
       "<style scoped>\n",
       "    .dataframe tbody tr th:only-of-type {\n",
       "        vertical-align: middle;\n",
       "    }\n",
       "\n",
       "    .dataframe tbody tr th {\n",
       "        vertical-align: top;\n",
       "    }\n",
       "\n",
       "    .dataframe thead th {\n",
       "        text-align: right;\n",
       "    }\n",
       "</style>\n",
       "<table border=\"1\" class=\"dataframe\">\n",
       "  <thead>\n",
       "    <tr style=\"text-align: right;\">\n",
       "      <th></th>\n",
       "      <th>id</th>\n",
       "      <th>usuario</th>\n",
       "      <th>recurso</th>\n",
       "      <th>data_acesso</th>\n",
       "      <th>url_foto</th>\n",
       "      <th>resultado</th>\n",
       "      <th>dist_1</th>\n",
       "      <th>dist_2</th>\n",
       "      <th>onde_achou</th>\n",
       "      <th>acao_bases</th>\n",
       "      <th>tempo_processamento</th>\n",
       "      <th>antispoof</th>\n",
       "      <th>resultado_2</th>\n",
       "      <th>url_doc</th>\n",
       "      <th>cpf</th>\n",
       "    </tr>\n",
       "  </thead>\n",
       "  <tbody>\n",
       "    <tr>\n",
       "      <th>132</th>\n",
       "      <td>20046</td>\n",
       "      <td>bwa</td>\n",
       "      <td>verifica</td>\n",
       "      <td>2019-10-17 15:16:09.774109</td>\n",
       "      <td>https://s3-sa-east-1.amazonaws.com/machineair-...</td>\n",
       "      <td>Marcos</td>\n",
       "      <td>0.1980000654796216803</td>\n",
       "      <td>0.1950782505661239741</td>\n",
       "      <td>base_2</td>\n",
       "      <td>nada_a_fazer</td>\n",
       "      <td>538.35988</td>\n",
       "      <td>NaN</td>\n",
       "      <td>NaN</td>\n",
       "      <td>NaN</td>\n",
       "      <td>3.163507e+09</td>\n",
       "    </tr>\n",
       "  </tbody>\n",
       "</table>\n",
       "</div>"
      ],
      "text/plain": [
       "        id usuario   recurso                 data_acesso  \\\n",
       "132  20046     bwa  verifica  2019-10-17 15:16:09.774109   \n",
       "\n",
       "                                              url_foto resultado  \\\n",
       "132  https://s3-sa-east-1.amazonaws.com/machineair-...    Marcos   \n",
       "\n",
       "                    dist_1                 dist_2 onde_achou    acao_bases  \\\n",
       "132  0.1980000654796216803  0.1950782505661239741     base_2  nada_a_fazer   \n",
       "\n",
       "     tempo_processamento antispoof resultado_2 url_doc           cpf  \n",
       "132            538.35988       NaN         NaN     NaN  3.163507e+09  "
      ]
     },
     "execution_count": 12,
     "metadata": {},
     "output_type": "execute_result"
    }
   ],
   "source": [
    "filtered_df.iloc[131:132,:]"
   ]
  },
  {
   "cell_type": "code",
   "execution_count": null,
   "metadata": {},
   "outputs": [],
   "source": [
    "# indice = data.iloc[0:1]\n",
    "# link = indice.values[0][0]\n",
    "\n",
    "# driver = webdriver.Chrbome()\n",
    "# driver.get(link)\n"
   ]
  },
  {
   "cell_type": "code",
   "execution_count": null,
   "metadata": {
    "scrolled": true
   },
   "outputs": [],
   "source": [
    "filtered_df"
   ]
  },
  {
   "cell_type": "markdown",
   "metadata": {},
   "source": [
    "## Script ---------------------------------------------------------"
   ]
  },
  {
   "cell_type": "code",
   "execution_count": null,
   "metadata": {},
   "outputs": [],
   "source": [
    "# for i in range(len(data)):\n",
    "#     indice = data.iloc[i:i+1]\n",
    "#     link = indice.values[0][0]\n",
    "#     driver = webdriver.Chrome()\n",
    "#     driver.get(link)\n",
    "#     #driver.close()"
   ]
  },
  {
   "cell_type": "code",
   "execution_count": null,
   "metadata": {},
   "outputs": [],
   "source": [
    "data = filtered_df\n"
   ]
  },
  {
   "cell_type": "code",
   "execution_count": null,
   "metadata": {},
   "outputs": [],
   "source": [
    "total = data.url_foto\n",
    "total = list(total)\n",
    "total"
   ]
  },
  {
   "cell_type": "code",
   "execution_count": null,
   "metadata": {},
   "outputs": [],
   "source": [
    "len(total)"
   ]
  },
  {
   "cell_type": "code",
   "execution_count": null,
   "metadata": {},
   "outputs": [],
   "source": [
    "import urllib.request\n",
    "\n",
    "# total = data.URL_FOTO\n",
    "for i in range(0,len(total)):\n",
    "    try:\n",
    "        total = list(total)\n",
    "        url  = total[i]\n",
    "        urllib.request.urlretrieve(url,str(i)+\"teste.jpg\")\n",
    "    except:\n",
    "        pass\n",
    "#     driver = webdriver.Chrome()\n",
    "#     driver.get(link)\n",
    "\n",
    "# url = \"https://s3-sa-east-1.amazonaws.com/ioy-fotos/fotos/JE8EVXZ1GY5VCDD6IPK73X9FH.jpg\"\n",
    "# urllib.request.urlretrieve(url, \"teste.jpg\")"
   ]
  },
  {
   "cell_type": "code",
   "execution_count": null,
   "metadata": {},
   "outputs": [],
   "source": [
    "# total = data.URL_FOTO\n",
    "\n",
    "# for i in range(len(data)):\n",
    "#     link = total[i]\n",
    "#     driver = webdriver.Chrome()\n",
    "#     driver.get(link)\n"
   ]
  },
  {
   "cell_type": "code",
   "execution_count": null,
   "metadata": {},
   "outputs": [],
   "source": [
    "# assert \"Python\" in driver.title\n",
    "# elem = driver.find_element_by_name(\"q\")\n",
    "# elem.clear()\n",
    "# elem.send_keys(\"pycon\")\n",
    "# elem.send_keys(Keys.RETURN)\n",
    "# assert \"No results found.\" not in driver.page_source\n",
    "# driver.close()"
   ]
  },
  {
   "cell_type": "code",
   "execution_count": null,
   "metadata": {},
   "outputs": [],
   "source": [
    "# options = webdriver.ChromeOptions()\n",
    "# options.add_argument('--ignore-certificate-errors')\n",
    "# options.add_argument(\"--test-type\")\n",
    "# options.binary_location = \"/usr/bin/chromium\"\n",
    "# driver = webdriver.Chrome(chrome_options=options)\n",
    "# driver.get('https://python.org')"
   ]
  },
  {
   "cell_type": "code",
   "execution_count": null,
   "metadata": {},
   "outputs": [],
   "source": [
    "from google_images_download import google_images_download   #importing the library\n"
   ]
  },
  {
   "cell_type": "code",
   "execution_count": null,
   "metadata": {},
   "outputs": [],
   "source": [
    "response = google_images_download.googleimagesdownload()   #class instantiation\n",
    "\n",
    "arguments = {\"keywords\":\"human faces angry\",\"limit\":100,\"print_urls\":True}   #creating list of arguments\n",
    "paths = response.download(arguments)   #passing the arguments to the function\n",
    "print(paths)   #printing absolute paths of the downloaded images"
   ]
  },
  {
   "cell_type": "code",
   "execution_count": null,
   "metadata": {},
   "outputs": [],
   "source": []
  }
 ],
 "metadata": {
  "kernelspec": {
   "display_name": "Python 3",
   "language": "python",
   "name": "python3"
  },
  "language_info": {
   "codemirror_mode": {
    "name": "ipython",
    "version": 3
   },
   "file_extension": ".py",
   "mimetype": "text/x-python",
   "name": "python",
   "nbconvert_exporter": "python",
   "pygments_lexer": "ipython3",
   "version": "3.7.3"
  }
 },
 "nbformat": 4,
 "nbformat_minor": 2
}
